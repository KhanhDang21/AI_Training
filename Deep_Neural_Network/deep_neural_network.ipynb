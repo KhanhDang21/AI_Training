{
  "nbformat": 4,
  "nbformat_minor": 0,
  "metadata": {
    "colab": {
      "provenance": []
    },
    "kernelspec": {
      "name": "python3",
      "display_name": "Python 3"
    },
    "language_info": {
      "name": "python"
    }
  },
  "cells": [
    {
      "cell_type": "code",
      "source": [
        "from google.colab import drive\n",
        "drive.mount('/content/gdrive')"
      ],
      "metadata": {
        "colab": {
          "base_uri": "https://localhost:8080/"
        },
        "id": "5cwuieQZRREA",
        "outputId": "b5646c18-c7e6-4ace-dcea-e45b6f928308"
      },
      "execution_count": 17,
      "outputs": [
        {
          "output_type": "stream",
          "name": "stdout",
          "text": [
            "Drive already mounted at /content/gdrive; to attempt to forcibly remount, call drive.mount(\"/content/gdrive\", force_remount=True).\n"
          ]
        }
      ]
    },
    {
      "cell_type": "code",
      "source": [
        "import pandas as pd\n",
        "import numpy as np\n",
        "from sklearn.model_selection import train_test_split\n",
        "from sklearn.preprocessing import StandardScaler\n",
        "from sklearn.preprocessing import LabelEncoder\n",
        "from sklearn.metrics import accuracy_score\n",
        "from tensorflow.keras.models import Sequential\n",
        "from tensorflow.keras.layers import Dense, Dropout\n",
        "from tensorflow.keras.models import load_model"
      ],
      "metadata": {
        "id": "UNzJp3A0TFiK"
      },
      "execution_count": 29,
      "outputs": []
    },
    {
      "cell_type": "markdown",
      "source": [
        "Reading data"
      ],
      "metadata": {
        "id": "SaARbdoKUoNU"
      }
    },
    {
      "cell_type": "code",
      "source": [
        "data = pd.read_csv('/content/gdrive/MyDrive/Colab Notebooks/Content/hotel.csv')\n",
        "df = data.copy()\n",
        "print(df.info())"
      ],
      "metadata": {
        "colab": {
          "base_uri": "https://localhost:8080/"
        },
        "id": "Nom5wLfYTKVj",
        "outputId": "ba56239b-eb22-420f-a5f3-1edaafcbccd8"
      },
      "execution_count": 19,
      "outputs": [
        {
          "output_type": "stream",
          "name": "stdout",
          "text": [
            "<class 'pandas.core.frame.DataFrame'>\n",
            "RangeIndex: 119390 entries, 0 to 119389\n",
            "Data columns (total 32 columns):\n",
            " #   Column                          Non-Null Count   Dtype  \n",
            "---  ------                          --------------   -----  \n",
            " 0   hotel                           119390 non-null  object \n",
            " 1   is_canceled                     119390 non-null  int64  \n",
            " 2   lead_time                       119390 non-null  int64  \n",
            " 3   arrival_date_year               119390 non-null  int64  \n",
            " 4   arrival_date_month              119390 non-null  object \n",
            " 5   arrival_date_week_number        119390 non-null  int64  \n",
            " 6   arrival_date_day_of_month       119390 non-null  int64  \n",
            " 7   stays_in_weekend_nights         119390 non-null  int64  \n",
            " 8   stays_in_week_nights            119390 non-null  int64  \n",
            " 9   adults                          119390 non-null  int64  \n",
            " 10  children                        119386 non-null  float64\n",
            " 11  babies                          119390 non-null  int64  \n",
            " 12  meal                            119390 non-null  object \n",
            " 13  country                         118902 non-null  object \n",
            " 14  market_segment                  119390 non-null  object \n",
            " 15  distribution_channel            119390 non-null  object \n",
            " 16  is_repeated_guest               119390 non-null  int64  \n",
            " 17  previous_cancellations          119390 non-null  int64  \n",
            " 18  previous_bookings_not_canceled  119390 non-null  int64  \n",
            " 19  reserved_room_type              119390 non-null  object \n",
            " 20  assigned_room_type              119390 non-null  object \n",
            " 21  booking_changes                 119390 non-null  int64  \n",
            " 22  deposit_type                    119390 non-null  object \n",
            " 23  agent                           103050 non-null  float64\n",
            " 24  company                         6797 non-null    float64\n",
            " 25  days_in_waiting_list            119390 non-null  int64  \n",
            " 26  customer_type                   119390 non-null  object \n",
            " 27  adr                             119390 non-null  float64\n",
            " 28  required_car_parking_spaces     119390 non-null  int64  \n",
            " 29  total_of_special_requests       119390 non-null  int64  \n",
            " 30  reservation_status              119390 non-null  object \n",
            " 31  reservation_status_date         119390 non-null  object \n",
            "dtypes: float64(4), int64(16), object(12)\n",
            "memory usage: 29.1+ MB\n",
            "None\n"
          ]
        }
      ]
    },
    {
      "cell_type": "markdown",
      "source": [
        "Processing data"
      ],
      "metadata": {
        "id": "_zSMFvlNVJt6"
      }
    },
    {
      "cell_type": "code",
      "source": [
        "for column in df.columns:\n",
        "    if(df[column].dtype == 'object'):\n",
        "        df[column].fillna(df[column].mode()[0], inplace = True)\n",
        "    else:\n",
        "        df[column].fillna(round(df[column].mean()), inplace = True)\n",
        "\n",
        "label_encoder = LabelEncoder()\n",
        "for column in df.select_dtypes(include = ['object']).columns:\n",
        "    df[column] = label_encoder.fit_transform(df[column])\n",
        "\n",
        "x = df.drop(columns = ['is_canceled'])\n",
        "y = df['is_canceled']\n",
        "\n",
        "x_train, x_test, y_train, y_test = train_test_split(x, y, test_size = 0.2, random_state = 42)\n",
        "\n",
        "scaler = StandardScaler()\n",
        "x_train = scaler.fit_transform(x_train)\n",
        "x_test = scaler.transform(x_test)\n",
        "\n",
        "x_train = np.array(x_train)\n",
        "x_test = np.array(x_test)\n",
        "y_train = np.array(y_train)\n",
        "y_test = np.array(y_test)"
      ],
      "metadata": {
        "id": "0mI_lXoMVN3L"
      },
      "execution_count": 38,
      "outputs": []
    },
    {
      "cell_type": "markdown",
      "source": [
        "Building deep learing model"
      ],
      "metadata": {
        "id": "8Qwha6hsVP5C"
      }
    },
    {
      "cell_type": "code",
      "source": [
        "model = Sequential()\n",
        "\n",
        "model.add(Dense(64, input_dim = x_train.shape[1], activation = 'relu'))\n",
        "model.add(Dropout(0.5))\n",
        "model.add(Dense(32, activation = 'relu'))\n",
        "model.add(Dense(1, activation = 'sigmoid'))\n",
        "\n",
        "model.compile(loss = 'binary_crossentropy', optimizer = 'adam', metrics = ['accuracy'])\n",
        "\n",
        "model.fit(x_train, y_train, epochs = 50, batch_size = 32, validation_data = (x_test, y_test))\n"
      ],
      "metadata": {
        "colab": {
          "base_uri": "https://localhost:8080/"
        },
        "id": "8Swix8fhVTIz",
        "outputId": "0d90ed30-4c7b-4d88-f126-d60f5a85971d"
      },
      "execution_count": 39,
      "outputs": [
        {
          "output_type": "stream",
          "name": "stdout",
          "text": [
            "Epoch 1/50\n"
          ]
        },
        {
          "output_type": "stream",
          "name": "stderr",
          "text": [
            "/usr/local/lib/python3.10/dist-packages/keras/src/layers/core/dense.py:87: UserWarning: Do not pass an `input_shape`/`input_dim` argument to a layer. When using Sequential models, prefer using an `Input(shape)` object as the first layer in the model instead.\n",
            "  super().__init__(activity_regularizer=activity_regularizer, **kwargs)\n"
          ]
        },
        {
          "output_type": "stream",
          "name": "stdout",
          "text": [
            "\u001b[1m2985/2985\u001b[0m \u001b[32m━━━━━━━━━━━━━━━━━━━━\u001b[0m\u001b[37m\u001b[0m \u001b[1m7s\u001b[0m 2ms/step - accuracy: 0.9494 - loss: 0.1555 - val_accuracy: 1.0000 - val_loss: 3.7431e-04\n",
            "Epoch 2/50\n",
            "\u001b[1m2985/2985\u001b[0m \u001b[32m━━━━━━━━━━━━━━━━━━━━\u001b[0m\u001b[37m\u001b[0m \u001b[1m8s\u001b[0m 3ms/step - accuracy: 0.9990 - loss: 0.0046 - val_accuracy: 1.0000 - val_loss: 9.0491e-05\n",
            "Epoch 3/50\n",
            "\u001b[1m2985/2985\u001b[0m \u001b[32m━━━━━━━━━━━━━━━━━━━━\u001b[0m\u001b[37m\u001b[0m \u001b[1m8s\u001b[0m 2ms/step - accuracy: 0.9996 - loss: 0.0015 - val_accuracy: 1.0000 - val_loss: 4.3370e-06\n",
            "Epoch 4/50\n",
            "\u001b[1m2985/2985\u001b[0m \u001b[32m━━━━━━━━━━━━━━━━━━━━\u001b[0m\u001b[37m\u001b[0m \u001b[1m10s\u001b[0m 2ms/step - accuracy: 0.9999 - loss: 8.6728e-04 - val_accuracy: 1.0000 - val_loss: 1.3831e-06\n",
            "Epoch 5/50\n",
            "\u001b[1m2985/2985\u001b[0m \u001b[32m━━━━━━━━━━━━━━━━━━━━\u001b[0m\u001b[37m\u001b[0m \u001b[1m8s\u001b[0m 3ms/step - accuracy: 0.9999 - loss: 4.3526e-04 - val_accuracy: 1.0000 - val_loss: 1.3035e-06\n",
            "Epoch 6/50\n",
            "\u001b[1m2985/2985\u001b[0m \u001b[32m━━━━━━━━━━━━━━━━━━━━\u001b[0m\u001b[37m\u001b[0m \u001b[1m9s\u001b[0m 2ms/step - accuracy: 1.0000 - loss: 1.8738e-04 - val_accuracy: 1.0000 - val_loss: 4.0176e-07\n",
            "Epoch 7/50\n",
            "\u001b[1m2985/2985\u001b[0m \u001b[32m━━━━━━━━━━━━━━━━━━━━\u001b[0m\u001b[37m\u001b[0m \u001b[1m10s\u001b[0m 3ms/step - accuracy: 0.9999 - loss: 3.3929e-04 - val_accuracy: 1.0000 - val_loss: 6.0970e-07\n",
            "Epoch 8/50\n",
            "\u001b[1m2985/2985\u001b[0m \u001b[32m━━━━━━━━━━━━━━━━━━━━\u001b[0m\u001b[37m\u001b[0m \u001b[1m13s\u001b[0m 4ms/step - accuracy: 1.0000 - loss: 5.6166e-04 - val_accuracy: 1.0000 - val_loss: 1.9862e-07\n",
            "Epoch 9/50\n",
            "\u001b[1m2985/2985\u001b[0m \u001b[32m━━━━━━━━━━━━━━━━━━━━\u001b[0m\u001b[37m\u001b[0m \u001b[1m8s\u001b[0m 3ms/step - accuracy: 0.9999 - loss: 8.8223e-04 - val_accuracy: 1.0000 - val_loss: 5.3014e-07\n",
            "Epoch 10/50\n",
            "\u001b[1m2985/2985\u001b[0m \u001b[32m━━━━━━━━━━━━━━━━━━━━\u001b[0m\u001b[37m\u001b[0m \u001b[1m14s\u001b[0m 4ms/step - accuracy: 0.9999 - loss: 4.9596e-04 - val_accuracy: 1.0000 - val_loss: 3.3940e-07\n",
            "Epoch 11/50\n",
            "\u001b[1m2985/2985\u001b[0m \u001b[32m━━━━━━━━━━━━━━━━━━━━\u001b[0m\u001b[37m\u001b[0m \u001b[1m15s\u001b[0m 2ms/step - accuracy: 1.0000 - loss: 1.4541e-04 - val_accuracy: 1.0000 - val_loss: 3.9728e-07\n",
            "Epoch 12/50\n",
            "\u001b[1m2985/2985\u001b[0m \u001b[32m━━━━━━━━━━━━━━━━━━━━\u001b[0m\u001b[37m\u001b[0m \u001b[1m11s\u001b[0m 2ms/step - accuracy: 0.9999 - loss: 4.5682e-04 - val_accuracy: 1.0000 - val_loss: 3.6997e-06\n",
            "Epoch 13/50\n",
            "\u001b[1m2985/2985\u001b[0m \u001b[32m━━━━━━━━━━━━━━━━━━━━\u001b[0m\u001b[37m\u001b[0m \u001b[1m11s\u001b[0m 3ms/step - accuracy: 0.9999 - loss: 4.7042e-04 - val_accuracy: 1.0000 - val_loss: 1.5111e-06\n",
            "Epoch 14/50\n",
            "\u001b[1m2985/2985\u001b[0m \u001b[32m━━━━━━━━━━━━━━━━━━━━\u001b[0m\u001b[37m\u001b[0m \u001b[1m6s\u001b[0m 2ms/step - accuracy: 0.9998 - loss: 8.7879e-04 - val_accuracy: 1.0000 - val_loss: 6.8648e-06\n",
            "Epoch 15/50\n",
            "\u001b[1m2985/2985\u001b[0m \u001b[32m━━━━━━━━━━━━━━━━━━━━\u001b[0m\u001b[37m\u001b[0m \u001b[1m8s\u001b[0m 3ms/step - accuracy: 0.9998 - loss: 0.0012 - val_accuracy: 1.0000 - val_loss: 1.9656e-06\n",
            "Epoch 16/50\n",
            "\u001b[1m2985/2985\u001b[0m \u001b[32m━━━━━━━━━━━━━━━━━━━━\u001b[0m\u001b[37m\u001b[0m \u001b[1m6s\u001b[0m 2ms/step - accuracy: 0.9999 - loss: 2.1639e-04 - val_accuracy: 1.0000 - val_loss: 4.6169e-06\n",
            "Epoch 17/50\n",
            "\u001b[1m2985/2985\u001b[0m \u001b[32m━━━━━━━━━━━━━━━━━━━━\u001b[0m\u001b[37m\u001b[0m \u001b[1m17s\u001b[0m 6ms/step - accuracy: 1.0000 - loss: 1.0710e-04 - val_accuracy: 1.0000 - val_loss: 9.2896e-07\n",
            "Epoch 18/50\n",
            "\u001b[1m2985/2985\u001b[0m \u001b[32m━━━━━━━━━━━━━━━━━━━━\u001b[0m\u001b[37m\u001b[0m \u001b[1m13s\u001b[0m 4ms/step - accuracy: 1.0000 - loss: 1.6166e-04 - val_accuracy: 1.0000 - val_loss: 1.4185e-06\n",
            "Epoch 19/50\n",
            "\u001b[1m2985/2985\u001b[0m \u001b[32m━━━━━━━━━━━━━━━━━━━━\u001b[0m\u001b[37m\u001b[0m \u001b[1m12s\u001b[0m 4ms/step - accuracy: 0.9998 - loss: 9.1461e-04 - val_accuracy: 1.0000 - val_loss: 6.1180e-07\n",
            "Epoch 20/50\n",
            "\u001b[1m2985/2985\u001b[0m \u001b[32m━━━━━━━━━━━━━━━━━━━━\u001b[0m\u001b[37m\u001b[0m \u001b[1m22s\u001b[0m 5ms/step - accuracy: 1.0000 - loss: 1.2693e-04 - val_accuracy: 1.0000 - val_loss: 1.4750e-06\n",
            "Epoch 21/50\n",
            "\u001b[1m2985/2985\u001b[0m \u001b[32m━━━━━━━━━━━━━━━━━━━━\u001b[0m\u001b[37m\u001b[0m \u001b[1m17s\u001b[0m 4ms/step - accuracy: 0.9999 - loss: 4.6867e-04 - val_accuracy: 1.0000 - val_loss: 1.2794e-06\n",
            "Epoch 22/50\n",
            "\u001b[1m2985/2985\u001b[0m \u001b[32m━━━━━━━━━━━━━━━━━━━━\u001b[0m\u001b[37m\u001b[0m \u001b[1m21s\u001b[0m 4ms/step - accuracy: 1.0000 - loss: 1.1850e-04 - val_accuracy: 1.0000 - val_loss: 8.5141e-07\n",
            "Epoch 23/50\n",
            "\u001b[1m2985/2985\u001b[0m \u001b[32m━━━━━━━━━━━━━━━━━━━━\u001b[0m\u001b[37m\u001b[0m \u001b[1m9s\u001b[0m 3ms/step - accuracy: 0.9999 - loss: 4.6358e-04 - val_accuracy: 1.0000 - val_loss: 2.8890e-06\n",
            "Epoch 24/50\n",
            "\u001b[1m2985/2985\u001b[0m \u001b[32m━━━━━━━━━━━━━━━━━━━━\u001b[0m\u001b[37m\u001b[0m \u001b[1m10s\u001b[0m 3ms/step - accuracy: 0.9999 - loss: 5.3053e-04 - val_accuracy: 1.0000 - val_loss: 3.1529e-05\n",
            "Epoch 25/50\n",
            "\u001b[1m2985/2985\u001b[0m \u001b[32m━━━━━━━━━━━━━━━━━━━━\u001b[0m\u001b[37m\u001b[0m \u001b[1m7s\u001b[0m 2ms/step - accuracy: 0.9999 - loss: 3.3385e-04 - val_accuracy: 1.0000 - val_loss: 1.5289e-04\n",
            "Epoch 26/50\n",
            "\u001b[1m2985/2985\u001b[0m \u001b[32m━━━━━━━━━━━━━━━━━━━━\u001b[0m\u001b[37m\u001b[0m \u001b[1m9s\u001b[0m 2ms/step - accuracy: 0.9998 - loss: 8.4134e-04 - val_accuracy: 1.0000 - val_loss: 1.5553e-06\n",
            "Epoch 27/50\n",
            "\u001b[1m2985/2985\u001b[0m \u001b[32m━━━━━━━━━━━━━━━━━━━━\u001b[0m\u001b[37m\u001b[0m \u001b[1m8s\u001b[0m 3ms/step - accuracy: 0.9999 - loss: 3.1716e-04 - val_accuracy: 1.0000 - val_loss: 3.1952e-06\n",
            "Epoch 28/50\n",
            "\u001b[1m2985/2985\u001b[0m \u001b[32m━━━━━━━━━━━━━━━━━━━━\u001b[0m\u001b[37m\u001b[0m \u001b[1m9s\u001b[0m 2ms/step - accuracy: 0.9999 - loss: 5.1348e-04 - val_accuracy: 1.0000 - val_loss: 1.8545e-05\n",
            "Epoch 29/50\n",
            "\u001b[1m2985/2985\u001b[0m \u001b[32m━━━━━━━━━━━━━━━━━━━━\u001b[0m\u001b[37m\u001b[0m \u001b[1m9s\u001b[0m 3ms/step - accuracy: 0.9999 - loss: 5.1965e-04 - val_accuracy: 1.0000 - val_loss: 4.3035e-05\n",
            "Epoch 30/50\n",
            "\u001b[1m2985/2985\u001b[0m \u001b[32m━━━━━━━━━━━━━━━━━━━━\u001b[0m\u001b[37m\u001b[0m \u001b[1m6s\u001b[0m 2ms/step - accuracy: 0.9999 - loss: 3.1148e-04 - val_accuracy: 1.0000 - val_loss: 3.1030e-06\n",
            "Epoch 31/50\n",
            "\u001b[1m2985/2985\u001b[0m \u001b[32m━━━━━━━━━━━━━━━━━━━━\u001b[0m\u001b[37m\u001b[0m \u001b[1m8s\u001b[0m 3ms/step - accuracy: 0.9999 - loss: 2.0100e-04 - val_accuracy: 1.0000 - val_loss: 2.9146e-07\n",
            "Epoch 32/50\n",
            "\u001b[1m2985/2985\u001b[0m \u001b[32m━━━━━━━━━━━━━━━━━━━━\u001b[0m\u001b[37m\u001b[0m \u001b[1m6s\u001b[0m 2ms/step - accuracy: 1.0000 - loss: 1.5789e-04 - val_accuracy: 1.0000 - val_loss: 2.6703e-06\n",
            "Epoch 33/50\n",
            "\u001b[1m2985/2985\u001b[0m \u001b[32m━━━━━━━━━━━━━━━━━━━━\u001b[0m\u001b[37m\u001b[0m \u001b[1m12s\u001b[0m 3ms/step - accuracy: 1.0000 - loss: 2.6476e-05 - val_accuracy: 1.0000 - val_loss: 9.7802e-08\n",
            "Epoch 34/50\n",
            "\u001b[1m2985/2985\u001b[0m \u001b[32m━━━━━━━━━━━━━━━━━━━━\u001b[0m\u001b[37m\u001b[0m \u001b[1m10s\u001b[0m 3ms/step - accuracy: 1.0000 - loss: 3.7299e-04 - val_accuracy: 1.0000 - val_loss: 3.0851e-07\n",
            "Epoch 35/50\n",
            "\u001b[1m2985/2985\u001b[0m \u001b[32m━━━━━━━━━━━━━━━━━━━━\u001b[0m\u001b[37m\u001b[0m \u001b[1m7s\u001b[0m 2ms/step - accuracy: 0.9999 - loss: 0.0012 - val_accuracy: 1.0000 - val_loss: 1.7253e-06\n",
            "Epoch 36/50\n",
            "\u001b[1m2985/2985\u001b[0m \u001b[32m━━━━━━━━━━━━━━━━━━━━\u001b[0m\u001b[37m\u001b[0m \u001b[1m12s\u001b[0m 3ms/step - accuracy: 0.9998 - loss: 7.9733e-04 - val_accuracy: 1.0000 - val_loss: 3.6229e-06\n",
            "Epoch 37/50\n",
            "\u001b[1m2985/2985\u001b[0m \u001b[32m━━━━━━━━━━━━━━━━━━━━\u001b[0m\u001b[37m\u001b[0m \u001b[1m10s\u001b[0m 3ms/step - accuracy: 1.0000 - loss: 1.0288e-04 - val_accuracy: 1.0000 - val_loss: 3.7124e-07\n",
            "Epoch 38/50\n",
            "\u001b[1m2985/2985\u001b[0m \u001b[32m━━━━━━━━━━━━━━━━━━━━\u001b[0m\u001b[37m\u001b[0m \u001b[1m7s\u001b[0m 2ms/step - accuracy: 1.0000 - loss: 5.4471e-05 - val_accuracy: 1.0000 - val_loss: 4.0126e-07\n",
            "Epoch 39/50\n",
            "\u001b[1m2985/2985\u001b[0m \u001b[32m━━━━━━━━━━━━━━━━━━━━\u001b[0m\u001b[37m\u001b[0m \u001b[1m12s\u001b[0m 3ms/step - accuracy: 0.9999 - loss: 6.1459e-04 - val_accuracy: 1.0000 - val_loss: 5.7445e-06\n",
            "Epoch 40/50\n",
            "\u001b[1m2985/2985\u001b[0m \u001b[32m━━━━━━━━━━━━━━━━━━━━\u001b[0m\u001b[37m\u001b[0m \u001b[1m8s\u001b[0m 2ms/step - accuracy: 0.9999 - loss: 8.3555e-04 - val_accuracy: 1.0000 - val_loss: 1.3294e-04\n",
            "Epoch 41/50\n",
            "\u001b[1m2985/2985\u001b[0m \u001b[32m━━━━━━━━━━━━━━━━━━━━\u001b[0m\u001b[37m\u001b[0m \u001b[1m10s\u001b[0m 2ms/step - accuracy: 0.9999 - loss: 6.2206e-04 - val_accuracy: 1.0000 - val_loss: 4.7193e-06\n",
            "Epoch 42/50\n",
            "\u001b[1m2985/2985\u001b[0m \u001b[32m━━━━━━━━━━━━━━━━━━━━\u001b[0m\u001b[37m\u001b[0m \u001b[1m11s\u001b[0m 2ms/step - accuracy: 1.0000 - loss: 1.4539e-04 - val_accuracy: 1.0000 - val_loss: 6.2902e-07\n",
            "Epoch 43/50\n",
            "\u001b[1m2985/2985\u001b[0m \u001b[32m━━━━━━━━━━━━━━━━━━━━\u001b[0m\u001b[37m\u001b[0m \u001b[1m12s\u001b[0m 3ms/step - accuracy: 1.0000 - loss: 3.7565e-04 - val_accuracy: 1.0000 - val_loss: 1.6414e-07\n",
            "Epoch 44/50\n",
            "\u001b[1m2985/2985\u001b[0m \u001b[32m━━━━━━━━━━━━━━━━━━━━\u001b[0m\u001b[37m\u001b[0m \u001b[1m7s\u001b[0m 2ms/step - accuracy: 0.9999 - loss: 9.5611e-04 - val_accuracy: 1.0000 - val_loss: 7.5747e-07\n",
            "Epoch 45/50\n",
            "\u001b[1m2985/2985\u001b[0m \u001b[32m━━━━━━━━━━━━━━━━━━━━\u001b[0m\u001b[37m\u001b[0m \u001b[1m11s\u001b[0m 2ms/step - accuracy: 0.9999 - loss: 6.2416e-04 - val_accuracy: 1.0000 - val_loss: 8.6450e-07\n",
            "Epoch 46/50\n",
            "\u001b[1m2985/2985\u001b[0m \u001b[32m━━━━━━━━━━━━━━━━━━━━\u001b[0m\u001b[37m\u001b[0m \u001b[1m12s\u001b[0m 3ms/step - accuracy: 1.0000 - loss: 2.8906e-04 - val_accuracy: 1.0000 - val_loss: 9.7960e-07\n",
            "Epoch 47/50\n",
            "\u001b[1m2985/2985\u001b[0m \u001b[32m━━━━━━━━━━━━━━━━━━━━\u001b[0m\u001b[37m\u001b[0m \u001b[1m9s\u001b[0m 2ms/step - accuracy: 1.0000 - loss: 2.8462e-05 - val_accuracy: 1.0000 - val_loss: 1.0699e-07\n",
            "Epoch 48/50\n",
            "\u001b[1m2985/2985\u001b[0m \u001b[32m━━━━━━━━━━━━━━━━━━━━\u001b[0m\u001b[37m\u001b[0m \u001b[1m10s\u001b[0m 2ms/step - accuracy: 1.0000 - loss: 2.2760e-04 - val_accuracy: 1.0000 - val_loss: 5.3062e-06\n",
            "Epoch 49/50\n",
            "\u001b[1m2985/2985\u001b[0m \u001b[32m━━━━━━━━━━━━━━━━━━━━\u001b[0m\u001b[37m\u001b[0m \u001b[1m11s\u001b[0m 3ms/step - accuracy: 0.9999 - loss: 0.0014 - val_accuracy: 1.0000 - val_loss: 1.2696e-05\n",
            "Epoch 50/50\n",
            "\u001b[1m2985/2985\u001b[0m \u001b[32m━━━━━━━━━━━━━━━━━━━━\u001b[0m\u001b[37m\u001b[0m \u001b[1m11s\u001b[0m 3ms/step - accuracy: 0.9998 - loss: 0.0013 - val_accuracy: 1.0000 - val_loss: 1.8673e-06\n"
          ]
        },
        {
          "output_type": "execute_result",
          "data": {
            "text/plain": [
              "<keras.src.callbacks.history.History at 0x7e9661570e80>"
            ]
          },
          "metadata": {},
          "execution_count": 39
        }
      ]
    },
    {
      "cell_type": "markdown",
      "source": [
        "Review model"
      ],
      "metadata": {
        "id": "ajBL_E70WUsq"
      }
    },
    {
      "cell_type": "code",
      "source": [
        "loss, accuracy = model.evaluate(x_test, y_test)\n",
        "print(f\"Loss: {loss}\\nAccuracy: {accuracy}\")"
      ],
      "metadata": {
        "colab": {
          "base_uri": "https://localhost:8080/"
        },
        "id": "9NvUZ6yeWbEy",
        "outputId": "4a148a90-b42f-417e-e55b-7e206d178893"
      },
      "execution_count": 43,
      "outputs": [
        {
          "output_type": "stream",
          "name": "stdout",
          "text": [
            "\u001b[1m747/747\u001b[0m \u001b[32m━━━━━━━━━━━━━━━━━━━━\u001b[0m\u001b[37m\u001b[0m \u001b[1m1s\u001b[0m 1ms/step - accuracy: 1.0000 - loss: 1.8735e-06\n",
            "Loss: 1.867301534730359e-06\n",
            "Accuracy: 1.0\n"
          ]
        }
      ]
    },
    {
      "cell_type": "markdown",
      "source": [
        "Save and using model"
      ],
      "metadata": {
        "id": "pqSV5ZSDXSWr"
      }
    },
    {
      "cell_type": "code",
      "source": [
        "predictions = model.predict(x_test)\n",
        "predictions = (predictions > 0.5).astype(int)\n",
        "\n",
        "model.save('hotel_cancellation_model.h5')\n",
        "\n",
        "loaded_model = load_model('hotel_cancellation_model.h5')\n",
        "\n",
        "loaded_predictions = loaded_model.predict(x_test)\n",
        "loaded_predictions = (loaded_predictions > 0.5).astype(int)\n",
        "\n",
        "accuracy = accuracy_score(y_test, loaded_predictions)\n",
        "print(f'Accuracy: {accuracy}')"
      ],
      "metadata": {
        "colab": {
          "base_uri": "https://localhost:8080/"
        },
        "id": "-9VKg7Q-XWq7",
        "outputId": "5b4fed91-e66a-4c52-f9ab-1b2e92edc40d"
      },
      "execution_count": 44,
      "outputs": [
        {
          "output_type": "stream",
          "name": "stdout",
          "text": [
            "\u001b[1m747/747\u001b[0m \u001b[32m━━━━━━━━━━━━━━━━━━━━\u001b[0m\u001b[37m\u001b[0m \u001b[1m1s\u001b[0m 2ms/step\n"
          ]
        },
        {
          "output_type": "stream",
          "name": "stderr",
          "text": [
            "WARNING:absl:You are saving your model as an HDF5 file via `model.save()` or `keras.saving.save_model(model)`. This file format is considered legacy. We recommend using instead the native Keras format, e.g. `model.save('my_model.keras')` or `keras.saving.save_model(model, 'my_model.keras')`. \n",
            "WARNING:absl:Compiled the loaded model, but the compiled metrics have yet to be built. `model.compile_metrics` will be empty until you train or evaluate the model.\n"
          ]
        },
        {
          "output_type": "stream",
          "name": "stdout",
          "text": [
            "\u001b[1m747/747\u001b[0m \u001b[32m━━━━━━━━━━━━━━━━━━━━\u001b[0m\u001b[37m\u001b[0m \u001b[1m1s\u001b[0m 1ms/step\n",
            "Accuracy: 1.0\n"
          ]
        }
      ]
    }
  ]
}